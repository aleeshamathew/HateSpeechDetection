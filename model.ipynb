{
 "cells": [
  {
   "cell_type": "code",
   "execution_count": 26,
   "id": "b61f214d",
   "metadata": {},
   "outputs": [
    {
     "name": "stdout",
     "output_type": "stream",
     "text": [
      "✅ TensorFlow version: 2.20.0\n"
     ]
    }
   ],
   "source": [
    "\n",
    "\n",
    "# Install required packages (uncomment if needed)\n",
    "# !pip install tensorflow scikeras scikit-learn pandas numpy joblib\n",
    "\n",
    "import re, string, pickle, os\n",
    "import numpy as np\n",
    "import pandas as pd\n",
    "from sklearn.model_selection import train_test_split, RandomizedSearchCV\n",
    "from scikeras.wrappers import KerasClassifier\n",
    "from tensorflow.keras.preprocessing.text import Tokenizer\n",
    "from tensorflow.keras.preprocessing.sequence import pad_sequences\n",
    "from tensorflow.keras.models import Sequential, load_model\n",
    "from tensorflow.keras.layers import Embedding, LSTM, Dense, Dropout\n",
    "from tensorflow.keras.callbacks import EarlyStopping\n",
    "import tensorflow as tf\n",
    "\n",
    "print('✅ TensorFlow version:', tf.__version__)\n"
   ]
  },
  {
   "cell_type": "markdown",
   "id": "2901c4c9",
   "metadata": {},
   "source": []
  },
  {
   "cell_type": "code",
   "execution_count": 27,
   "id": "1b28eb2c",
   "metadata": {},
   "outputs": [
    {
     "name": "stdout",
     "output_type": "stream",
     "text": [
      "📊 Data shape: (24783, 7)\n"
     ]
    },
    {
     "data": {
      "text/html": [
       "<div>\n",
       "<style scoped>\n",
       "    .dataframe tbody tr th:only-of-type {\n",
       "        vertical-align: middle;\n",
       "    }\n",
       "\n",
       "    .dataframe tbody tr th {\n",
       "        vertical-align: top;\n",
       "    }\n",
       "\n",
       "    .dataframe thead th {\n",
       "        text-align: right;\n",
       "    }\n",
       "</style>\n",
       "<table border=\"1\" class=\"dataframe\">\n",
       "  <thead>\n",
       "    <tr style=\"text-align: right;\">\n",
       "      <th></th>\n",
       "      <th>Unnamed: 0</th>\n",
       "      <th>count</th>\n",
       "      <th>hate_speech</th>\n",
       "      <th>offensive_language</th>\n",
       "      <th>neither</th>\n",
       "      <th>class</th>\n",
       "      <th>tweet</th>\n",
       "    </tr>\n",
       "  </thead>\n",
       "  <tbody>\n",
       "    <tr>\n",
       "      <th>0</th>\n",
       "      <td>0</td>\n",
       "      <td>3</td>\n",
       "      <td>0</td>\n",
       "      <td>0</td>\n",
       "      <td>3</td>\n",
       "      <td>2</td>\n",
       "      <td>!!! RT @mayasolovely: As a woman you shouldn't...</td>\n",
       "    </tr>\n",
       "    <tr>\n",
       "      <th>1</th>\n",
       "      <td>1</td>\n",
       "      <td>3</td>\n",
       "      <td>0</td>\n",
       "      <td>3</td>\n",
       "      <td>0</td>\n",
       "      <td>1</td>\n",
       "      <td>!!!!! RT @mleew17: boy dats cold...tyga dwn ba...</td>\n",
       "    </tr>\n",
       "    <tr>\n",
       "      <th>2</th>\n",
       "      <td>2</td>\n",
       "      <td>3</td>\n",
       "      <td>0</td>\n",
       "      <td>3</td>\n",
       "      <td>0</td>\n",
       "      <td>1</td>\n",
       "      <td>!!!!!!! RT @UrKindOfBrand Dawg!!!! RT @80sbaby...</td>\n",
       "    </tr>\n",
       "    <tr>\n",
       "      <th>3</th>\n",
       "      <td>3</td>\n",
       "      <td>3</td>\n",
       "      <td>0</td>\n",
       "      <td>2</td>\n",
       "      <td>1</td>\n",
       "      <td>1</td>\n",
       "      <td>!!!!!!!!! RT @C_G_Anderson: @viva_based she lo...</td>\n",
       "    </tr>\n",
       "    <tr>\n",
       "      <th>4</th>\n",
       "      <td>4</td>\n",
       "      <td>6</td>\n",
       "      <td>0</td>\n",
       "      <td>6</td>\n",
       "      <td>0</td>\n",
       "      <td>1</td>\n",
       "      <td>!!!!!!!!!!!!! RT @ShenikaRoberts: The shit you...</td>\n",
       "    </tr>\n",
       "  </tbody>\n",
       "</table>\n",
       "</div>"
      ],
      "text/plain": [
       "   Unnamed: 0  count  hate_speech  offensive_language  neither  class  \\\n",
       "0           0      3            0                   0        3      2   \n",
       "1           1      3            0                   3        0      1   \n",
       "2           2      3            0                   3        0      1   \n",
       "3           3      3            0                   2        1      1   \n",
       "4           4      6            0                   6        0      1   \n",
       "\n",
       "                                               tweet  \n",
       "0  !!! RT @mayasolovely: As a woman you shouldn't...  \n",
       "1  !!!!! RT @mleew17: boy dats cold...tyga dwn ba...  \n",
       "2  !!!!!!! RT @UrKindOfBrand Dawg!!!! RT @80sbaby...  \n",
       "3  !!!!!!!!! RT @C_G_Anderson: @viva_based she lo...  \n",
       "4  !!!!!!!!!!!!! RT @ShenikaRoberts: The shit you...  "
      ]
     },
     "execution_count": 27,
     "metadata": {},
     "output_type": "execute_result"
    }
   ],
   "source": [
    "\n",
    "\n",
    "# Update path if necessary\n",
    "DATA_PATH = 'C:/Users/Aleesha/Desktop/abc/labeled_data.csv'   # Or your own path\n",
    "if not os.path.exists(DATA_PATH):\n",
    "    raise FileNotFoundError(f\"Dataset not found at {DATA_PATH}\")\n",
    "\n",
    "df = pd.read_csv(DATA_PATH)\n",
    "print('📊 Data shape:', df.shape)\n",
    "df.head()\n"
   ]
  },
  {
   "cell_type": "code",
   "execution_count": 28,
   "id": "c00b63bd",
   "metadata": {},
   "outputs": [
    {
     "data": {
      "text/html": [
       "<div>\n",
       "<style scoped>\n",
       "    .dataframe tbody tr th:only-of-type {\n",
       "        vertical-align: middle;\n",
       "    }\n",
       "\n",
       "    .dataframe tbody tr th {\n",
       "        vertical-align: top;\n",
       "    }\n",
       "\n",
       "    .dataframe thead th {\n",
       "        text-align: right;\n",
       "    }\n",
       "</style>\n",
       "<table border=\"1\" class=\"dataframe\">\n",
       "  <thead>\n",
       "    <tr style=\"text-align: right;\">\n",
       "      <th></th>\n",
       "      <th>tweet</th>\n",
       "      <th>clean_tweet</th>\n",
       "    </tr>\n",
       "  </thead>\n",
       "  <tbody>\n",
       "    <tr>\n",
       "      <th>0</th>\n",
       "      <td>!!! RT @mayasolovely: As a woman you shouldn't...</td>\n",
       "      <td>rt as a woman you shouldnt complain about clea...</td>\n",
       "    </tr>\n",
       "    <tr>\n",
       "      <th>1</th>\n",
       "      <td>!!!!! RT @mleew17: boy dats cold...tyga dwn ba...</td>\n",
       "      <td>rt boy dats coldtyga dwn bad for cuffin dat ho...</td>\n",
       "    </tr>\n",
       "    <tr>\n",
       "      <th>2</th>\n",
       "      <td>!!!!!!! RT @UrKindOfBrand Dawg!!!! RT @80sbaby...</td>\n",
       "      <td>rt dawg rt you ever fuck a bitch and she start...</td>\n",
       "    </tr>\n",
       "    <tr>\n",
       "      <th>3</th>\n",
       "      <td>!!!!!!!!! RT @C_G_Anderson: @viva_based she lo...</td>\n",
       "      <td>rt she look like a tranny</td>\n",
       "    </tr>\n",
       "    <tr>\n",
       "      <th>4</th>\n",
       "      <td>!!!!!!!!!!!!! RT @ShenikaRoberts: The shit you...</td>\n",
       "      <td>rt the shit you hear about me might be true or...</td>\n",
       "    </tr>\n",
       "  </tbody>\n",
       "</table>\n",
       "</div>"
      ],
      "text/plain": [
       "                                               tweet  \\\n",
       "0  !!! RT @mayasolovely: As a woman you shouldn't...   \n",
       "1  !!!!! RT @mleew17: boy dats cold...tyga dwn ba...   \n",
       "2  !!!!!!! RT @UrKindOfBrand Dawg!!!! RT @80sbaby...   \n",
       "3  !!!!!!!!! RT @C_G_Anderson: @viva_based she lo...   \n",
       "4  !!!!!!!!!!!!! RT @ShenikaRoberts: The shit you...   \n",
       "\n",
       "                                         clean_tweet  \n",
       "0  rt as a woman you shouldnt complain about clea...  \n",
       "1  rt boy dats coldtyga dwn bad for cuffin dat ho...  \n",
       "2  rt dawg rt you ever fuck a bitch and she start...  \n",
       "3                          rt she look like a tranny  \n",
       "4  rt the shit you hear about me might be true or...  "
      ]
     },
     "execution_count": 28,
     "metadata": {},
     "output_type": "execute_result"
    }
   ],
   "source": [
    "\n",
    "\n",
    "def clean_tweet(text):\n",
    "    text = str(text).lower()\n",
    "    text = re.sub(r\"http\\S+|www\\S+|https\\S+\", \"\", text)  # URLs\n",
    "    text = re.sub(r\"@\\w+\", \"\", text)                     # Mentions\n",
    "    text = re.sub(r\"#\\w+\", \"\", text)                     # Hashtags\n",
    "    text = text.translate(str.maketrans('', '', string.punctuation))  # Remove punctuation\n",
    "    text = re.sub(r\"\\d+\", \"\", text)                      # Numbers\n",
    "    text = re.sub(r\"\\s+\", \" \", text).strip()             # Extra spaces\n",
    "    return text\n",
    "\n",
    "df['clean_tweet'] = df['tweet'].astype(str).apply(clean_tweet)\n",
    "df[['tweet', 'clean_tweet']].head()\n"
   ]
  },
  {
   "cell_type": "code",
   "execution_count": 29,
   "id": "2ff954a3",
   "metadata": {},
   "outputs": [
    {
     "name": "stdout",
     "output_type": "stream",
     "text": [
      "X shape: (24783, 40) | y shape: (24783,)\n"
     ]
    }
   ],
   "source": [
    "# 📌 Tokenize & pad\n",
    "\n",
    "\n",
    "VOCAB_SIZE = 10000\n",
    "MAX_LEN = 40\n",
    "OOV_TOKEN = \"<OOV>\"\n",
    "\n",
    "tokenizer = Tokenizer(num_words=VOCAB_SIZE, oov_token=OOV_TOKEN)\n",
    "tokenizer.fit_on_texts(df['clean_tweet'])\n",
    "\n",
    "sequences = tokenizer.texts_to_sequences(df['clean_tweet'])\n",
    "X = pad_sequences(sequences, maxlen=MAX_LEN, padding='post', truncating='post')\n",
    "\n",
    "y = df['class'].values  # Assuming 'class' column contains labels 0/1/2\n",
    "print('X shape:', X.shape, '| y shape:', y.shape)\n"
   ]
  },
  {
   "cell_type": "code",
   "execution_count": 30,
   "id": "8d24cb17",
   "metadata": {},
   "outputs": [
    {
     "name": "stdout",
     "output_type": "stream",
     "text": [
      "Train: (19826, 40) Test: (4957, 40)\n"
     ]
    }
   ],
   "source": [
    "X_train, X_test, y_train, y_test = train_test_split(\n",
    "    X, y, test_size=0.2, random_state=42, stratify=y\n",
    ")\n",
    "print('Train:', X_train.shape, 'Test:', X_test.shape)\n"
   ]
  },
  {
   "cell_type": "code",
   "execution_count": 31,
   "id": "461876f4",
   "metadata": {},
   "outputs": [],
   "source": [
    "# 📌 Model builder function\n",
    "\n",
    "#Build function with tunable args + defaults\n",
    "\n",
    "\n",
    "def build_model(vocab_size=VOCAB_SIZE, embed_dim=64, lstm_units=64, dropout_rate=0.3):\n",
    "    model = Sequential()\n",
    "    model.add(Embedding(input_dim=vocab_size, output_dim=embed_dim, input_length=MAX_LEN))\n",
    "    model.add(LSTM(lstm_units))\n",
    "    model.add(Dropout(dropout_rate))\n",
    "    model.add(Dense(3, activation='softmax'))  # 3 classes\n",
    "    model.compile(loss='sparse_categorical_crossentropy', optimizer='adam', metrics=['accuracy'])\n",
    "    return model\n"
   ]
  },
  {
   "cell_type": "code",
   "execution_count": 34,
   "id": "2741acdf",
   "metadata": {},
   "outputs": [
    {
     "name": "stdout",
     "output_type": "stream",
     "text": [
      "\n",
      "🧪 Training with embed_dim=32, lstm_units=64, dropout=0.3, batch=64, epochs=3\n"
     ]
    },
    {
     "name": "stderr",
     "output_type": "stream",
     "text": [
      "c:\\Users\\Aleesha\\Desktop\\abc\\venv\\lib\\site-packages\\keras\\src\\layers\\core\\embedding.py:97: UserWarning: Argument `input_length` is deprecated. Just remove it.\n",
      "  warnings.warn(\n"
     ]
    },
    {
     "name": "stdout",
     "output_type": "stream",
     "text": [
      "→ Validation Accuracy: 0.8689\n",
      "\n",
      "🧪 Training with embed_dim=32, lstm_units=64, dropout=0.3, batch=64, epochs=5\n",
      "→ Validation Accuracy: 0.8531\n",
      "\n",
      "🧪 Training with embed_dim=32, lstm_units=64, dropout=0.5, batch=64, epochs=3\n",
      "→ Validation Accuracy: 0.8263\n",
      "\n",
      "🧪 Training with embed_dim=32, lstm_units=64, dropout=0.5, batch=64, epochs=5\n",
      "→ Validation Accuracy: 0.8303\n",
      "\n",
      "🧪 Training with embed_dim=32, lstm_units=128, dropout=0.3, batch=64, epochs=3\n",
      "→ Validation Accuracy: 0.8277\n",
      "\n",
      "🧪 Training with embed_dim=32, lstm_units=128, dropout=0.3, batch=64, epochs=5\n",
      "→ Validation Accuracy: 0.7743\n",
      "\n",
      "🧪 Training with embed_dim=32, lstm_units=128, dropout=0.5, batch=64, epochs=3\n",
      "→ Validation Accuracy: 0.7952\n",
      "\n",
      "🧪 Training with embed_dim=32, lstm_units=128, dropout=0.5, batch=64, epochs=5\n",
      "→ Validation Accuracy: 0.8160\n",
      "\n",
      "🧪 Training with embed_dim=64, lstm_units=64, dropout=0.3, batch=64, epochs=3\n",
      "→ Validation Accuracy: 0.8338\n",
      "\n",
      "🧪 Training with embed_dim=64, lstm_units=64, dropout=0.3, batch=64, epochs=5\n",
      "→ Validation Accuracy: 0.7743\n",
      "\n",
      "🧪 Training with embed_dim=64, lstm_units=64, dropout=0.5, batch=64, epochs=3\n",
      "→ Validation Accuracy: 0.8059\n",
      "\n",
      "🧪 Training with embed_dim=64, lstm_units=64, dropout=0.5, batch=64, epochs=5\n",
      "→ Validation Accuracy: 0.7743\n",
      "\n",
      "🧪 Training with embed_dim=64, lstm_units=128, dropout=0.3, batch=64, epochs=3\n",
      "→ Validation Accuracy: 0.7743\n",
      "\n",
      "🧪 Training with embed_dim=64, lstm_units=128, dropout=0.3, batch=64, epochs=5\n",
      "→ Validation Accuracy: 0.8600\n",
      "\n",
      "🧪 Training with embed_dim=64, lstm_units=128, dropout=0.5, batch=64, epochs=3\n",
      "→ Validation Accuracy: 0.8061\n",
      "\n",
      "🧪 Training with embed_dim=64, lstm_units=128, dropout=0.5, batch=64, epochs=5\n",
      "→ Validation Accuracy: 0.8798\n",
      "\n",
      "🏆 Best Accuracy: 0.8797659873962402\n",
      "Best Params (embed_dim, lstm_units, dropout, batch, epochs): (64, 128, 0.5, 64, 5)\n"
     ]
    }
   ],
   "source": [
    "import itertools\n",
    "from tensorflow.keras.callbacks import EarlyStopping\n",
    "\n",
    "# Define hyperparameter search space\n",
    "param_grid = {\n",
    "    \"embed_dim\": [32, 64],\n",
    "    \"lstm_units\": [64, 128],\n",
    "    \"dropout_rate\": [0.3, 0.5],\n",
    "    \"batch_size\": [64],\n",
    "    \"epochs\": [3, 5],\n",
    "}\n",
    "\n",
    "best_acc = 0\n",
    "best_params = None\n",
    "best_model = None\n",
    "\n",
    "for embed_dim, lstm_units, dropout_rate, batch_size, epochs in itertools.product(\n",
    "    param_grid[\"embed_dim\"],\n",
    "    param_grid[\"lstm_units\"],\n",
    "    param_grid[\"dropout_rate\"],\n",
    "    param_grid[\"batch_size\"],\n",
    "    param_grid[\"epochs\"]\n",
    "):\n",
    "    print(f\"\\n🧪 Training with embed_dim={embed_dim}, lstm_units={lstm_units}, dropout={dropout_rate}, \"\n",
    "          f\"batch={batch_size}, epochs={epochs}\")\n",
    "\n",
    "    model = build_model(vocab_size=VOCAB_SIZE, embed_dim=embed_dim,\n",
    "                        lstm_units=lstm_units, dropout_rate=dropout_rate)\n",
    "\n",
    "    history = model.fit(\n",
    "        X_train, y_train,\n",
    "        validation_split=0.2,\n",
    "        batch_size=batch_size,\n",
    "        epochs=epochs,\n",
    "        verbose=0,\n",
    "        callbacks=[EarlyStopping(monitor='val_loss', patience=2)]\n",
    "    )\n",
    "\n",
    "    loss, acc = model.evaluate(X_test, y_test, verbose=0)\n",
    "    print(f\"→ Validation Accuracy: {acc:.4f}\")\n",
    "\n",
    "    if acc > best_acc:\n",
    "        best_acc = acc\n",
    "        best_params = (embed_dim, lstm_units, dropout_rate, batch_size, epochs)\n",
    "        best_model = model\n",
    "\n",
    "print(\"\\n🏆 Best Accuracy:\", best_acc)\n",
    "print(\"Best Params (embed_dim, lstm_units, dropout, batch, epochs):\", best_params)\n",
    "\n"
   ]
  },
  {
   "cell_type": "code",
   "execution_count": 35,
   "id": "6ce4de7b",
   "metadata": {},
   "outputs": [
    {
     "name": "stdout",
     "output_type": "stream",
     "text": [
      "✅ Best model saved to best_lstm_model.keras\n",
      "✅ Tokenizer saved to tokenizer.pkl\n"
     ]
    }
   ],
   "source": [
    "MODEL_PATH = 'best_lstm_model.keras'\n",
    "TOKENIZER_PATH = 'tokenizer.pkl'\n",
    "\n",
    "best_model.save(MODEL_PATH)\n",
    "print(f\"✅ Best model saved to {MODEL_PATH}\")\n",
    "\n",
    "import pickle\n",
    "with open(TOKENIZER_PATH, 'wb') as f:\n",
    "    pickle.dump(tokenizer, f)\n",
    "print(f\"✅ Tokenizer saved to {TOKENIZER_PATH}\")\n"
   ]
  }
 ],
 "metadata": {
  "kernelspec": {
   "display_name": "venv",
   "language": "python",
   "name": "python3"
  },
  "language_info": {
   "codemirror_mode": {
    "name": "ipython",
    "version": 3
   },
   "file_extension": ".py",
   "mimetype": "text/x-python",
   "name": "python",
   "nbconvert_exporter": "python",
   "pygments_lexer": "ipython3",
   "version": "3.9.12"
  }
 },
 "nbformat": 4,
 "nbformat_minor": 5
}
